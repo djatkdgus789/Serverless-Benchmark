{
 "cells": [
  {
   "cell_type": "code",
   "execution_count": 4,
   "metadata": {},
   "outputs": [
    {
     "ename": "FileNotFoundError",
     "evalue": "[Errno 2] No such file or directory: './recognition_faasnap.trace'",
     "output_type": "error",
     "traceback": [
      "\u001b[0;31m---------------------------------------------------------------------------\u001b[0m",
      "\u001b[0;31mFileNotFoundError\u001b[0m                         Traceback (most recent call last)",
      "Cell \u001b[0;32mIn[4], line 14\u001b[0m\n\u001b[1;32m      9\u001b[0m cpu \u001b[39m=\u001b[39m [] \n\u001b[1;32m     11\u001b[0m \u001b[39m# timestamp in <secs>.<usecs> format\u001b[39;00m\n\u001b[1;32m     12\u001b[0m \u001b[39m#f1 = open(\"./recognition_ssd.trace\", 'r')\u001b[39;00m\n\u001b[1;32m     13\u001b[0m \u001b[39m#f1 = open(\"./recognition_nvme.trace\", 'r')\u001b[39;00m\n\u001b[0;32m---> 14\u001b[0m f1 \u001b[39m=\u001b[39m  \u001b[39mopen\u001b[39;49m(\u001b[39m\"\u001b[39;49m\u001b[39m./recognition_faasnap.trace\u001b[39;49m\u001b[39m\"\u001b[39;49m, \u001b[39m'\u001b[39;49m\u001b[39mr\u001b[39;49m\u001b[39m'\u001b[39;49m)\n\u001b[1;32m     15\u001b[0m \u001b[39m#f2 = open(\"./recognition_dcpm.trace\", 'r')\u001b[39;00m\n\u001b[1;32m     17\u001b[0m file_list \u001b[39m=\u001b[39m [f1]\n",
      "File \u001b[0;32m~/.local/lib/python3.10/site-packages/IPython/core/interactiveshell.py:282\u001b[0m, in \u001b[0;36m_modified_open\u001b[0;34m(file, *args, **kwargs)\u001b[0m\n\u001b[1;32m    275\u001b[0m \u001b[39mif\u001b[39;00m file \u001b[39min\u001b[39;00m {\u001b[39m0\u001b[39m, \u001b[39m1\u001b[39m, \u001b[39m2\u001b[39m}:\n\u001b[1;32m    276\u001b[0m     \u001b[39mraise\u001b[39;00m \u001b[39mValueError\u001b[39;00m(\n\u001b[1;32m    277\u001b[0m         \u001b[39mf\u001b[39m\u001b[39m\"\u001b[39m\u001b[39mIPython won\u001b[39m\u001b[39m'\u001b[39m\u001b[39mt let you open fd=\u001b[39m\u001b[39m{\u001b[39;00mfile\u001b[39m}\u001b[39;00m\u001b[39m by default \u001b[39m\u001b[39m\"\u001b[39m\n\u001b[1;32m    278\u001b[0m         \u001b[39m\"\u001b[39m\u001b[39mas it is likely to crash IPython. If you know what you are doing, \u001b[39m\u001b[39m\"\u001b[39m\n\u001b[1;32m    279\u001b[0m         \u001b[39m\"\u001b[39m\u001b[39myou can use builtins\u001b[39m\u001b[39m'\u001b[39m\u001b[39m open.\u001b[39m\u001b[39m\"\u001b[39m\n\u001b[1;32m    280\u001b[0m     )\n\u001b[0;32m--> 282\u001b[0m \u001b[39mreturn\u001b[39;00m io_open(file, \u001b[39m*\u001b[39;49margs, \u001b[39m*\u001b[39;49m\u001b[39m*\u001b[39;49mkwargs)\n",
      "\u001b[0;31mFileNotFoundError\u001b[0m: [Errno 2] No such file or directory: './recognition_faasnap.trace'"
     ]
    }
   ],
   "source": [
    "# KVM에서 발생하는 VMEXIT 중 page fault로 인한 것을 확인하기 위한 그래프\n",
    "from parse import *\n",
    "import numpy as np\n",
    "import matplotlib.pyplot as plt\n",
    "\n",
    "start_time = 0\n",
    "end_time = 0\n",
    "pf_time = 0\n",
    "cpu = [] \n",
    "\n",
    "# timestamp in <secs>.<usecs> format\n",
    "#f1 = open(\"./recognition_ssd.trace\", 'r')\n",
    "#f1 = open(\"./recognition_nvme.trace\", 'r')\n",
    "f1 =  open(\"./recognition_faasnap.trace\", 'r')\n",
    "#f2 = open(\"./recognition_dcpm.trace\", 'r')\n",
    "\n",
    "file_list = [f1]\n",
    "\n",
    "while True:\n",
    "    line = f1.readline()\n",
    "    if not line: break\n",
    "\n",
    "    if 'restart' in line:\n",
    "        # fc_vcpu 0-552219  [040] .... 97836.519114: kvm_userspace_exit: reason restart (4)\n",
    "        if start_time == 0:\n",
    "            result = parse(\"       fc_vcpu {no}-{} [{}] {} {sec}.{micro}: kvm_userspace_exit: {}\", line)\n",
    "            start_time = int(result['sec']) * 1000000 + int(result['micro'])\n",
    "        elif end_time == 0:\n",
    "            result = parse(\"       fc_vcpu {no}-{} [{}] {} {sec}.{micro}: kvm_userspace_exit: {}\", line)\n",
    "            end_time = int(result['sec']) * 1000000 + int(result['micro'])\n",
    "            \n",
    "\n",
    "    if 'fc_vcpu 0' in line:\n",
    "        if 'kvm_entry' in line:\n",
    "            #fc_vcpu 0-2779478 [077] d... 1820822.383974: kvm_entry: vcpu 0\n",
    "            result = parse(\"       fc_vcpu {no}-{} [{}] {} {sec}.{micro}: kvm_entry: {}\", line)\n",
    "            cpu_active = {'start': int(result['sec']) * 1000000 + int(result['micro']), 'end': 0, 'reason':''}\n",
    "            cpu.append(cpu_active)\n",
    "\n",
    "\n",
    "        if 'kvm_exit' in line:\n",
    "            #fc_vcpu 0-2779478 [077] .... 1820822.383989: kvm_exit: vcpu 0 reason EPT_VIOLATION rip 0x5a1b20 info 384 0\n",
    "            result = parse(\"       fc_vcpu {no}-{} [{}] {} {sec}.{micro}: kvm_exit: {} reason {reason} rip {}\", line)\n",
    "            # if result['reason'] == 'EPT_VIOLATION':\n",
    "            reason = result['reason']\n",
    "            if cpu[-1]['end'] == 0:\n",
    "                cpu[-1]['reason'] = reason\n",
    "                cpu[-1]['end'] = int(result['sec']) * 1000000 + int(result['micro'])\n",
    "            else:\n",
    "                print(line)\n",
    "                print(\"vcpu exit가 더 빠름\")\n",
    "\n",
    "f1.close()\n"
   ]
  },
  {
   "cell_type": "code",
   "execution_count": null,
   "metadata": {},
   "outputs": [
    {
     "data": {
      "image/png": "[encoded data removed]",
      "text/plain": [
       "<Figure size 2000x200 with 1 Axes>"
      ]
     },
     "metadata": {},
     "output_type": "display_data"
    }
   ],
   "source": [
    "fig = plt.figure(figsize=(20,2)) ## 캔버스 생성\n",
    "fig.set_facecolor('white') ## 배경색 설정\n",
    "\n",
    "plt.subplot(2, 1, 1)                # nrows=2, ncols=1, index=1\n",
    "\n",
    "plt.xlabel(\"Execution time (ms)\")\n",
    "plt.ylabel(\"VM EXIT\")\n",
    "plt.xlim(0, 1400)\n",
    "\n",
    "plt.gca().axes.yaxis.set_visible(False)\n",
    "\n",
    "for cpu_active in cpu:\n",
    "    #cpu_active['start'] = (cpu_active['start'] - start_time) \n",
    "    #cpu_active['end'] = (cpu_active['end'] - start_time)\n",
    "    cpu_active['start'] = (cpu_active['start'] - start_time) * 0.001\n",
    "    cpu_active['end'] = (cpu_active['end'] - start_time) * 0.001\n",
    "    #pf_time.append(cpu_active['end'] - cpu_active['start'])\n",
    "    if cpu_active['reason'] == \"EPT_VIOLATION\":\n",
    "        plt.axvspan(cpu_active['start'], cpu_active['end'], facecolor='red')\n",
    "\n"
   ]
  }
 ],
 "metadata": {
  "kernelspec": {
   "display_name": "Python 3",
   "language": "python",
   "name": "python3"
  },
  "language_info": {
   "codemirror_mode": {
    "name": "ipython",
    "version": 3
   },
   "file_extension": ".py",
   "mimetype": "text/x-python",
   "name": "python",
   "nbconvert_exporter": "python",
   "pygments_lexer": "ipython3",
   "version": "3.10.10 (main, Feb  8 2023, 14:50:01) [GCC 9.4.0]"
  },
  "orig_nbformat": 4,
  "vscode": {
   "interpreter": {
    "hash": "97cc609b13305c559618ec78a438abc56230b9381f827f22d070313b9a1f3777"
   }
  }
 },
 "nbformat": 4,
 "nbformat_minor": 2
}
