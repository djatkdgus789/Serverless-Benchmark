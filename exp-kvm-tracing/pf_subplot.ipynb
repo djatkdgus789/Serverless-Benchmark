{
 "cells": [
  {
   "cell_type": "code",
   "execution_count": 6,
   "metadata": {},
   "outputs": [
    {
     "name": "stderr",
     "output_type": "stream",
     "text": [
      "/tmp/ipykernel_1713131/3128603469.py:81: MatplotlibDeprecationWarning: Auto-removal of overlapping axes is deprecated since 3.6 and will be removed two minor releases later; explicitly call ax.remove() as needed.\n",
      "  plt.subplot(num_vcpu, 1, idx+1)                # nrows=2, ncols=1, index=1\n"
     ]
    },
    {
     "data": {
      "image/png": "[encoded data removed]",
      "text/plain": [
       "<Figure size 640x480 with 4 Axes>"
      ]
     },
     "metadata": {},
     "output_type": "display_data"
    }
   ],
   "source": [
    "# KVM에서 발생하는 VMEXIT (page fault)를 Multi vCPU 성능 확인을 위한 그래프\n",
    "\n",
    "from parse import *\n",
    "import numpy as np\n",
    "import matplotlib.pyplot as plt\n",
    "\n",
    "num_vcpu = 4\n",
    "start_time = 0\n",
    "end_time = 0\n",
    "pf_time = [[] for i in range(num_vcpu)]\n",
    "cpu = [[] for i in range(num_vcpu)]\n",
    "\n",
    "# timestamp in <secs>.<usecs> format\n",
    "#f = open(\"./recognition_ssd.trace\", 'r')\n",
    "#f = open(\"./recognition_nvme_4.trace\", 'r')\n",
    "f = open(\"./recognition_faasnap_4.trace\", 'r')\n",
    "#f = open(\"./recognition_dcpm.trace\", 'r')\n",
    "#f = open(\"./recognition_faasnap.trace\", 'r')\n",
    "plt.gca().axes.yaxis.set_visible(False)\n",
    "\n",
    "#idx = 0\n",
    "\n",
    "while True:\n",
    "    line = f.readline()\n",
    "    if not line: break\n",
    "\n",
    "    for idx in range(0, num_vcpu):\n",
    "        if 'restart' in line:\n",
    "            # fc_vcpu 0-552219  [040] .... 97836.519114: kvm_userspace_exit: reason restart (4)\n",
    "            if start_time == 0:\n",
    "                result = parse(\"       fc_vcpu {no}-{} [{}] {} {sec}.{micro}: kvm_userspace_exit: {}\", line)\n",
    "                start_time = int(result['sec']) * 1000000 + int(result['micro'])\n",
    "            elif end_time == 0:\n",
    "                result = parse(\"       fc_vcpu {no}-{} [{}] {} {sec}.{micro}: kvm_userspace_exit: {}\", line)\n",
    "                end_time = int(result['sec']) * 1000000 + int(result['micro'])\n",
    "                \n",
    "\n",
    "        if 'fc_vcpu '+str(idx) in line:\n",
    "            if 'kvm_entry' in line:\n",
    "                #fc_vcpu 0-2779478 [077] d... 1820822.383974: kvm_entry: vcpu 0\n",
    "                result = parse(\"       fc_vcpu {no}-{} [{}] {} {sec}.{micro}: kvm_entry: {}\", line)\n",
    "                cpu_active = {'start': int(result['sec']) * 1000000 + int(result['micro']), 'end': 0, 'reason':''}\n",
    "                cpu[int(result['no'])].append(cpu_active)\n",
    "\n",
    "\n",
    "            if 'kvm_exit' in line:\n",
    "                #fc_vcpu 0-2779478 [077] .... 1820822.383989: kvm_exit: vcpu 0 reason EPT_VIOLATION rip 0x5a1b20 info 384 0\n",
    "                result = parse(\"       fc_vcpu {no}-{} [{}] {} {sec}.{micro}: kvm_exit: {} reason {reason} rip {}\", line)\n",
    "                # if result['reason'] == 'EPT_VIOLATION':\n",
    "                reason = result['reason']\n",
    "                if cpu[int(result['no'])][-1]['end'] == 0:\n",
    "                    cpu[int(result['no'])][-1]['reason'] = reason\n",
    "                    cpu[int(result['no'])][-1]['end'] = int(result['sec']) * 1000000 + int(result['micro'])\n",
    "                else:\n",
    "                    print(\"Error\")\n",
    "                    #print(\"vcpu exit가 더 빠름\")\n",
    "                \n",
    "\n",
    "f.close()\n",
    "\n",
    "start = [[] for i in range(num_vcpu)]\n",
    "for idx in range(0, num_vcpu):\n",
    "    # plt.gca().axes.yaxis.set_visible(False)\n",
    "    for cpu_active in cpu[idx]:\n",
    "        if cpu_active['reason'] == \"EPT_VIOLATION\":\n",
    "        #if cpu_active['reason'] != \"EPT_VIOLATION\":\n",
    "            cpu_active['start'] = (cpu_active['start'] - start_time) * 0.001\n",
    "            cpu_active['end'] = (cpu_active['end'] - start_time) * 0.001\n",
    "            #pf_time[idx].append((cpu_active['end'] - cpu_active['start']))\n",
    "            #start[idx].append(cpu_active['start'] * 0.001)\n",
    "            plt.axvspan(cpu_active['start'], cpu_active['end'], facecolor='red')\n",
    "\n",
    "\n",
    "    #fig = plt.figure(figsize=(10,2)) ## 캔버스 생성\n",
    "\n",
    "    avg = np.average(pf_time[idx])\n",
    "    sum = np.sum(pf_time[idx])\n",
    "    np.sort(pf_time[idx])\n",
    "    #avg_of_1 = np.sort(pf_time[idx])[::-1][int(0.01* len(pf_time))]\n",
    "\n",
    "    plt.subplot(num_vcpu, 1, idx+1)                # nrows=2, ncols=1, index=1\n",
    "\n",
    "#plt.tight_layout()\n",
    "plt.show()\n",
    "\n"
   ]
  },
  {
   "cell_type": "markdown",
   "metadata": {},
   "source": []
  }
 ],
 "metadata": {
  "kernelspec": {
   "display_name": "Python 3",
   "language": "python",
   "name": "python3"
  },
  "language_info": {
   "codemirror_mode": {
    "name": "ipython",
    "version": 3
   },
   "file_extension": ".py",
   "mimetype": "text/x-python",
   "name": "python",
   "nbconvert_exporter": "python",
   "pygments_lexer": "ipython3",
   "version": "3.10.10"
  },
  "orig_nbformat": 4,
  "vscode": {
   "interpreter": {
    "hash": "97cc609b13305c559618ec78a438abc56230b9381f827f22d070313b9a1f3777"
   }
  }
 },
 "nbformat": 4,
 "nbformat_minor": 2
}
